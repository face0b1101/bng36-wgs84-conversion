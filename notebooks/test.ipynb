{
 "cells": [
  {
   "cell_type": "code",
   "execution_count": 5,
   "metadata": {},
   "outputs": [],
   "source": [
    "import requests"
   ]
  },
  {
   "cell_type": "code",
   "execution_count": 6,
   "metadata": {},
   "outputs": [],
   "source": [
    "# Base URL of your FastAPI application\n",
    "BASE_URL = \"http://localhost:8000\"\n",
    "\n",
    "\n",
    "def convert_bng_to_wgs84(easting: float, northing: float) -> dict:\n",
    "    \"\"\"\n",
    "    Convert BNG coordinates to WGS84 using the FastAPI service.\n",
    "\n",
    "    Args:\n",
    "    easting (float): Easting coordinate in BNG format.\n",
    "    northing (float): Northing coordinate in BNG format.\n",
    "\n",
    "    Returns:\n",
    "    dict: Converted coordinates in WGS84 format or error message.\n",
    "\n",
    "    Raises:\n",
    "    HTTPError, ConnectionError, Timeout, RequestException: For issues during the request.\n",
    "    \"\"\"\n",
    "    try:\n",
    "        url = f\"{BASE_URL}/convert/bng_to_wgs84\"\n",
    "        response = requests.post(url, json={\"easting\": easting, \"northing\": northing})\n",
    "        response.raise_for_status()  # Raises an HTTPError for unsuccessful status codes\n",
    "\n",
    "        return response.json()\n",
    "\n",
    "    except requests.exceptions.HTTPError as errh:\n",
    "        return f\"HTTP Error: {errh}\"\n",
    "\n",
    "    except requests.exceptions.ConnectionError as errc:\n",
    "        return f\"Error Connecting: {errc}\"\n",
    "\n",
    "    except requests.exceptions.Timeout as errt:\n",
    "        return f\"Timeout Error: {errt}\"\n",
    "\n",
    "    except requests.exceptions.RequestException as err:\n",
    "        return f\"Error: {err}\"\n",
    "\n",
    "\n",
    "def convert_wgs84_to_bng(latitude: float, longitude: float) -> dict:\n",
    "    \"\"\"\n",
    "    Convert WGS84 coordinates to BNG using the FastAPI service.\n",
    "\n",
    "    Args:\n",
    "    latitude (float): Latitude in WGS84 format.\n",
    "    longitude (float): Longitude in WGS84 format.\n",
    "\n",
    "    Returns:\n",
    "    dict: Converted coordinates in BNG format or error message.\n",
    "\n",
    "    Raises:\n",
    "    HTTPError, ConnectionError, Timeout, RequestException: For issues during the request.\n",
    "    \"\"\"\n",
    "    try:\n",
    "        url = f\"{BASE_URL}/convert/wgs84_to_bng\"\n",
    "        response = requests.post(\n",
    "            url, json={\"latitude\": latitude, \"longitude\": longitude}\n",
    "        )\n",
    "        response.raise_for_status()\n",
    "\n",
    "        return response.json()\n",
    "\n",
    "    except requests.exceptions.HTTPError as errh:\n",
    "        return f\"HTTP Error: {errh}\"\n",
    "\n",
    "    except requests.exceptions.ConnectionError as errc:\n",
    "        return f\"Error Connecting: {errc}\"\n",
    "\n",
    "    except requests.exceptions.Timeout as errt:\n",
    "        return f\"Timeout Error: {errt}\"\n",
    "\n",
    "    except requests.exceptions.RequestException as err:\n",
    "        return f\"Error: {err}\""
   ]
  },
  {
   "cell_type": "code",
   "execution_count": 8,
   "metadata": {},
   "outputs": [
    {
     "name": "stdout",
     "output_type": "stream",
     "text": [
      "BNG to WGS84: {'latitude': 51.507399320103, 'longitude': -0.12781077887405398}\n",
      "WGS84 to BNG: {'easting': 530028.7469491748, 'northing': 180380.09425125353}\n"
     ]
    }
   ],
   "source": [
    "# Example usage\n",
    "bng_coords = {\"easting\": 530028, \"northing\": 180380}\n",
    "print(\"BNG to WGS84:\", convert_bng_to_wgs84(**bng_coords))\n",
    "\n",
    "wgs84_coords = {\"latitude\": 51.5074, \"longitude\": -0.1278}\n",
    "print(\"WGS84 to BNG:\", convert_wgs84_to_bng(**wgs84_coords))"
   ]
  }
 ],
 "metadata": {
  "kernelspec": {
   "display_name": "Python 3.10.0 ('.venv': poetry)",
   "language": "python",
   "name": "python3"
  },
  "language_info": {
   "codemirror_mode": {
    "name": "ipython",
    "version": 3
   },
   "file_extension": ".py",
   "mimetype": "text/x-python",
   "name": "python",
   "nbconvert_exporter": "python",
   "pygments_lexer": "ipython3",
   "version": "3.11.6"
  },
  "orig_nbformat": 4,
  "vscode": {
   "interpreter": {
    "hash": "922c6dc2f997cff1ad2bba8520fc1b4702789a70b32d82613e8aa6224a20cd8e"
   }
  }
 },
 "nbformat": 4,
 "nbformat_minor": 2
}
