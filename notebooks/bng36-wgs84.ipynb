{
 "cells": [
  {
   "cell_type": "markdown",
   "metadata": {},
   "source": [
    "# Convert BNG (OSGB36) <--> WGS84\n"
   ]
  },
  {
   "cell_type": "code",
   "execution_count": 1,
   "metadata": {},
   "outputs": [],
   "source": [
    "import pyproj"
   ]
  },
  {
   "cell_type": "code",
   "execution_count": 2,
   "metadata": {},
   "outputs": [],
   "source": [
    "def bng_to_wgs84(easting: float, northing: float) -> tuple:\n",
    "    \"\"\"Convert BNG (OSGB36) to WGS84 coordinates.\"\"\"\n",
    "    bng = pyproj.CRS(\"EPSG:27700\")\n",
    "    wgs84 = pyproj.CRS(\"EPSG:4326\")\n",
    "\n",
    "    transformer = pyproj.Transformer.from_crs(bng, wgs84, always_xy=True)\n",
    "    lon, lat = transformer.transform(easting, northing)\n",
    "\n",
    "    return lat, lon\n",
    "\n",
    "\n",
    "def wgs84_to_bng(lat: float, lon: float) -> tuple:\n",
    "    \"\"\"Convert WGS84 to BNG (OSGB36) coordinates.\"\"\"\n",
    "    wgs84 = pyproj.CRS(\"EPSG:4326\")\n",
    "    bng = pyproj.CRS(\"EPSG:27700\")\n",
    "\n",
    "    transformer = pyproj.Transformer.from_crs(wgs84, bng, always_xy=True)\n",
    "    easting, northing = transformer.transform(lon, lat)\n",
    "\n",
    "    return easting, northing"
   ]
  },
  {
   "cell_type": "code",
   "execution_count": 4,
   "metadata": {},
   "outputs": [
    {
     "name": "stdout",
     "output_type": "stream",
     "text": [
      "BNG to WGS84: (51.50399082763378, -0.12835394047946933)\n",
      "WGS84 to BNG: (530028.7469491748, 180380.09425125353)\n"
     ]
    }
   ],
   "source": [
    "# Example usage\n",
    "easting, northing = 530000, 180000  # BNG coordinates\n",
    "print(\"BNG to WGS84:\", bng_to_wgs84(easting, northing))\n",
    "\n",
    "lat, lon = 51.5074, -0.1278  # WGS84 coordinates (London)\n",
    "print(\"WGS84 to BNG:\", wgs84_to_bng(lat, lon))"
   ]
  }
 ],
 "metadata": {
  "kernelspec": {
   "display_name": ".venv",
   "language": "python",
   "name": "python3"
  },
  "language_info": {
   "codemirror_mode": {
    "name": "ipython",
    "version": 3
   },
   "file_extension": ".py",
   "mimetype": "text/x-python",
   "name": "python",
   "nbconvert_exporter": "python",
   "pygments_lexer": "ipython3",
   "version": "3.11.6"
  }
 },
 "nbformat": 4,
 "nbformat_minor": 2
}
